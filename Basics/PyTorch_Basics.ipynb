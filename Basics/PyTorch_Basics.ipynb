{
  "nbformat": 4,
  "nbformat_minor": 0,
  "metadata": {
    "colab": {
      "provenance": []
    },
    "kernelspec": {
      "name": "python3",
      "display_name": "Python 3"
    },
    "language_info": {
      "name": "python"
    },
    "accelerator": "GPU",
    "gpuClass": "standard"
  },
  "cells": [
    {
      "cell_type": "code",
      "execution_count": 42,
      "metadata": {
        "id": "kOQGcmSt0DVG"
      },
      "outputs": [],
      "source": [
        "import torch\n",
        "import numpy as np"
      ]
    },
    {
      "cell_type": "code",
      "source": [
        "# Creating an empty tensor\n",
        "\n",
        "x = torch.empty(1) #Scalar value without initializing\n",
        "print(x)\n"
      ],
      "metadata": {
        "colab": {
          "base_uri": "https://localhost:8080/"
        },
        "id": "_I6I2abs1KWJ",
        "outputId": "4b7dd63f-b36e-4fba-eac9-302a8a01f850"
      },
      "execution_count": 43,
      "outputs": [
        {
          "output_type": "stream",
          "name": "stdout",
          "text": [
            "tensor([7.6040e-35])\n"
          ]
        }
      ]
    },
    {
      "cell_type": "code",
      "source": [
        "# 1D vector with three elements \n",
        "\n",
        "x = torch.empty(3) \n",
        "print(x)\n"
      ],
      "metadata": {
        "colab": {
          "base_uri": "https://localhost:8080/"
        },
        "id": "waVaGuDo2025",
        "outputId": "ede88f00-0dd4-4fce-aa8f-f9a2d9148e66"
      },
      "execution_count": 44,
      "outputs": [
        {
          "output_type": "stream",
          "name": "stdout",
          "text": [
            "tensor([3.1393e-35, 0.0000e+00, 7.6812e-35])\n"
          ]
        }
      ]
    },
    {
      "cell_type": "code",
      "source": [
        "# 2D matrix \n",
        "\n",
        "x = torch.empty(2,3)\n",
        "print(x) "
      ],
      "metadata": {
        "colab": {
          "base_uri": "https://localhost:8080/"
        },
        "id": "joTEWRVR3Ae5",
        "outputId": "4a6a1668-a589-4472-eb57-9b7f0d14eaf5"
      },
      "execution_count": 45,
      "outputs": [
        {
          "output_type": "stream",
          "name": "stdout",
          "text": [
            "tensor([[7.5997e-35, 0.0000e+00, 7.6043e-35],\n",
            "        [0.0000e+00, 1.1125e+31, 4.5736e-41]])\n"
          ]
        }
      ]
    },
    {
      "cell_type": "code",
      "source": [
        "# 3D \n",
        "\n",
        "x = torch.empty(2,2,3)\n",
        "print(x)"
      ],
      "metadata": {
        "colab": {
          "base_uri": "https://localhost:8080/"
        },
        "id": "FE52Vl8r3RNy",
        "outputId": "1fc92a85-9e99-4d8e-c078-8536ca26c69e"
      },
      "execution_count": 46,
      "outputs": [
        {
          "output_type": "stream",
          "name": "stdout",
          "text": [
            "tensor([[[1.9064e-05, 4.5737e-41, 8.0971e-35],\n",
            "         [0.0000e+00, 4.4842e-44, 0.0000e+00]],\n",
            "\n",
            "        [[1.5695e-43, 0.0000e+00, 6.0650e-35],\n",
            "         [0.0000e+00, 7.6526e-35, 0.0000e+00]]])\n"
          ]
        }
      ]
    },
    {
      "cell_type": "code",
      "source": [
        "# Creating a tensor with random values \n",
        "\n",
        "x = torch.rand(2,2)\n",
        "print(x)"
      ],
      "metadata": {
        "colab": {
          "base_uri": "https://localhost:8080/"
        },
        "id": "4lA8Z_sk3dy0",
        "outputId": "412ed301-6b53-4a02-81fa-3b4f5a13e49b"
      },
      "execution_count": 47,
      "outputs": [
        {
          "output_type": "stream",
          "name": "stdout",
          "text": [
            "tensor([[0.8685, 0.4407],\n",
            "        [0.0877, 0.5054]])\n"
          ]
        }
      ]
    },
    {
      "cell_type": "code",
      "source": [
        "# Tensor with zeros / ones\n",
        "\n",
        "x = torch.zeros(2,2)\n",
        "print(x) "
      ],
      "metadata": {
        "colab": {
          "base_uri": "https://localhost:8080/"
        },
        "id": "UGMcxq1U3ro1",
        "outputId": "0bcd7849-5a15-480d-9e2a-dc60360b96b8"
      },
      "execution_count": 48,
      "outputs": [
        {
          "output_type": "stream",
          "name": "stdout",
          "text": [
            "tensor([[0., 0.],\n",
            "        [0., 0.]])\n"
          ]
        }
      ]
    },
    {
      "cell_type": "code",
      "source": [
        "# With datatype \n",
        "\n",
        "x = torch.ones(2,2, dtype=torch.int)\n",
        "print(x.dtype)\n",
        "\n",
        "# Size \n",
        "\n",
        "print(x.size())"
      ],
      "metadata": {
        "colab": {
          "base_uri": "https://localhost:8080/"
        },
        "id": "5q68TMb74Ee3",
        "outputId": "b59e9300-9aeb-4b64-af01-993bcd251ef6"
      },
      "execution_count": 49,
      "outputs": [
        {
          "output_type": "stream",
          "name": "stdout",
          "text": [
            "torch.int32\n",
            "torch.Size([2, 2])\n"
          ]
        }
      ]
    },
    {
      "cell_type": "markdown",
      "source": [
        "***Some basic Operations with tensors***"
      ],
      "metadata": {
        "id": "cvF9ziGInRpe"
      }
    },
    {
      "cell_type": "code",
      "source": [
        "# Element wise addition \n",
        "\n",
        "x = torch.rand(2,2)\n",
        "y = torch.rand(2,2)\n",
        "\n",
        "print(x)\n",
        "print(y)\n",
        "\n",
        "z = x+y\n",
        "z = torch.add(x,y) # Same as before\n",
        "print(z)"
      ],
      "metadata": {
        "id": "VHWF-2YJ4cvC",
        "colab": {
          "base_uri": "https://localhost:8080/"
        },
        "outputId": "695d901e-5e08-496c-d58d-a04ff4a018c9"
      },
      "execution_count": 50,
      "outputs": [
        {
          "output_type": "stream",
          "name": "stdout",
          "text": [
            "tensor([[0.7914, 0.1836],\n",
            "        [0.9277, 0.4024]])\n",
            "tensor([[0.8933, 0.6679],\n",
            "        [0.4676, 0.5496]])\n",
            "tensor([[1.6847, 0.8515],\n",
            "        [1.3953, 0.9520]])\n"
          ]
        }
      ]
    },
    {
      "cell_type": "markdown",
      "source": [
        "**In pytorch trailing underscore will do an in-place operation so this will modify the variable that it is applied on**"
      ],
      "metadata": {
        "id": "Jk2E6vRPovir"
      }
    },
    {
      "cell_type": "code",
      "source": [
        "# In place addition \n",
        "\n",
        "y.add_(x)\n",
        "print(y) # It will modify our y and add all of the elements of x to our y\n",
        "\n"
      ],
      "metadata": {
        "colab": {
          "base_uri": "https://localhost:8080/"
        },
        "id": "n2SVKFx1ng7-",
        "outputId": "c30962cc-82b9-4626-9f88-91278689283a"
      },
      "execution_count": 51,
      "outputs": [
        {
          "output_type": "stream",
          "name": "stdout",
          "text": [
            "tensor([[1.6847, 0.8515],\n",
            "        [1.3953, 0.9520]])\n"
          ]
        }
      ]
    },
    {
      "cell_type": "markdown",
      "source": [
        "**Slicing Operations**"
      ],
      "metadata": {
        "id": "dPj8nUKDoV1u"
      }
    },
    {
      "cell_type": "code",
      "source": [
        "x = torch.rand(5,3)\n",
        "\n",
        "print(x)\n",
        "\n",
        "# All rows but only one column\n",
        "\n",
        "print(x[:,0])"
      ],
      "metadata": {
        "colab": {
          "base_uri": "https://localhost:8080/"
        },
        "id": "7mGHz5irn--O",
        "outputId": "bbd6c2c1-b5b3-4c75-cbcd-75ba84c2b934"
      },
      "execution_count": 52,
      "outputs": [
        {
          "output_type": "stream",
          "name": "stdout",
          "text": [
            "tensor([[0.8979, 0.9201, 0.0788],\n",
            "        [0.2576, 0.5784, 0.9405],\n",
            "        [0.9591, 0.7176, 0.0363],\n",
            "        [0.8780, 0.0474, 0.9079],\n",
            "        [0.0498, 0.1211, 0.3870]])\n",
            "tensor([0.8979, 0.2576, 0.9591, 0.8780, 0.0498])\n"
          ]
        }
      ]
    },
    {
      "cell_type": "markdown",
      "source": [
        "***Reshaping an tensor***"
      ],
      "metadata": {
        "id": "BiGJx_hwpnoZ"
      }
    },
    {
      "cell_type": "code",
      "source": [
        "x = torch.rand(4,4)\n",
        "print(x)\n",
        "\n",
        "y = x.view(16) \n",
        "print(y)\n",
        "\n",
        "print(y.size())"
      ],
      "metadata": {
        "colab": {
          "base_uri": "https://localhost:8080/"
        },
        "id": "dfQIwW_Ao-97",
        "outputId": "64e26ff6-704b-43bf-8241-787a60e27de9"
      },
      "execution_count": 53,
      "outputs": [
        {
          "output_type": "stream",
          "name": "stdout",
          "text": [
            "tensor([[0.1736, 0.0272, 0.1923, 0.8262],\n",
            "        [0.9221, 0.9246, 0.5934, 0.2992],\n",
            "        [0.6008, 0.4942, 0.8346, 0.9516],\n",
            "        [0.1674, 0.6972, 0.3212, 0.4969]])\n",
            "tensor([0.1736, 0.0272, 0.1923, 0.8262, 0.9221, 0.9246, 0.5934, 0.2992, 0.6008,\n",
            "        0.4942, 0.8346, 0.9516, 0.1674, 0.6972, 0.3212, 0.4969])\n",
            "torch.Size([16])\n"
          ]
        }
      ]
    },
    {
      "cell_type": "markdown",
      "source": [
        "***Numpy to torch***"
      ],
      "metadata": {
        "id": "5Q_6Nmt5qf83"
      }
    },
    {
      "cell_type": "code",
      "source": [
        "a = torch.ones(5)\n",
        "print(a)\n",
        "\n",
        "b = a.numpy()\n",
        "print(type(b))\n"
      ],
      "metadata": {
        "colab": {
          "base_uri": "https://localhost:8080/"
        },
        "id": "QmUOxlxSp1dQ",
        "outputId": "f033d8e9-2468-40f9-c5fe-f9864fc4a4ee"
      },
      "execution_count": 54,
      "outputs": [
        {
          "output_type": "stream",
          "name": "stdout",
          "text": [
            "tensor([1., 1., 1., 1., 1.])\n",
            "<class 'numpy.ndarray'>\n"
          ]
        }
      ]
    },
    {
      "cell_type": "code",
      "source": [
        "# Torch to numpy\n",
        "\n",
        "a = np.ones(5)\n",
        "print(a)\n",
        "\n",
        "b = torch.from_numpy(a)\n",
        "print(b)\n",
        "\n",
        "a+=1\n",
        "print(a)\n",
        "print(b) # Tensor is on GPU "
      ],
      "metadata": {
        "colab": {
          "base_uri": "https://localhost:8080/"
        },
        "id": "Z3b9la0SqvJ3",
        "outputId": "1803835f-0b5b-4cfd-8ab3-1bcfcb97c4ac"
      },
      "execution_count": 58,
      "outputs": [
        {
          "output_type": "stream",
          "name": "stdout",
          "text": [
            "[1. 1. 1. 1. 1.]\n",
            "tensor([1., 1., 1., 1., 1.], dtype=torch.float64)\n",
            "[2. 2. 2. 2. 2.]\n",
            "tensor([2., 2., 2., 2., 2.], dtype=torch.float64)\n"
          ]
        }
      ]
    },
    {
      "cell_type": "code",
      "source": [],
      "metadata": {
        "id": "gqnf2yCDrTXp"
      },
      "execution_count": null,
      "outputs": []
    }
  ]
}