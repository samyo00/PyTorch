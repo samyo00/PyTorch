{
  "nbformat": 4,
  "nbformat_minor": 0,
  "metadata": {
    "colab": {
      "provenance": []
    },
    "kernelspec": {
      "name": "python3",
      "display_name": "Python 3"
    },
    "language_info": {
      "name": "python"
    }
  },
  "cells": [
    {
      "cell_type": "markdown",
      "source": [
        "1) Design model (input,output size, forward pass)\n",
        "\n",
        "2) Construct loss and optimizer\n",
        "\n",
        "3) Training loop\n",
        "\n",
        "- Forward pass : compute prediction and loss\n",
        "-Bacckward pass: gradients\n",
        "-Update weights "
      ],
      "metadata": {
        "id": "H8q8hZvkLQ1Q"
      }
    },
    {
      "cell_type": "code",
      "execution_count": 2,
      "metadata": {
        "id": "wKbMAqENLBJx"
      },
      "outputs": [],
      "source": [
        "import torch\n",
        "import torch.nn as nn\n",
        "import numpy as np\n",
        "from sklearn import datasets\n",
        "from sklearn.preprocessing import StandardScaler\n",
        "from sklearn.model_selection import train_test_split"
      ]
    },
    {
      "cell_type": "markdown",
      "source": [
        "- Step 0 : Prepare data\n",
        "- Step 1 : Model\n",
        "- Step 2 : Loss and optimizer\n",
        "- Step 3 : Training Loop"
      ],
      "metadata": {
        "id": "XzPC9-g7L8u-"
      }
    },
    {
      "cell_type": "code",
      "source": [
        "bc = datasets.load_breast_cancer()\n",
        "X, y = bc.data,bc.target\n",
        "\n",
        "n_samples,n_features = X.shape\n",
        "print(n_features,n_features)\n",
        "\n",
        "X_train,X_test,y_train,y_test = train_test_split(X,y,test_size=0.2,random_state=1234)\n",
        "\n",
        "# Scale\n",
        "\n",
        "sc = StandardScaler()\n",
        "X_train = sc.fit_transform(X_train)\n",
        "X_test = sc.transform(X_test)\n",
        "\n",
        "X_train = torch.from_numpy(X_train.astype(np.float32))\n",
        "X_test = torch.from_numpy(X_test.astype(np.float32))\n",
        "y_train = torch.from_numpy(y_train.astype(np.float32))\n",
        "y_test = torch.from_numpy(y_test.astype(np.float32))\n",
        "\n",
        "y_train = y_train.view(y_train.shape[0],1)\n",
        "y_test = y_test.view(y_test.shape[0],1)"
      ],
      "metadata": {
        "colab": {
          "base_uri": "https://localhost:8080/"
        },
        "id": "bn6R3qRSLEH5",
        "outputId": "546ad6b8-9ed5-490a-e896-b64f2944651a"
      },
      "execution_count": 11,
      "outputs": [
        {
          "output_type": "stream",
          "name": "stdout",
          "text": [
            "30 30\n"
          ]
        }
      ]
    },
    {
      "cell_type": "markdown",
      "source": [
        "***Model***"
      ],
      "metadata": {
        "id": "gd7Of686Qh1e"
      }
    },
    {
      "cell_type": "code",
      "source": [
        "# f = wx + b,sigmoid at the end\n",
        "class LogisticRegression(nn.Module):\n",
        "\n",
        "  def __init__(self,n_input_features):\n",
        "    super(LogisticRegression,self).__init__()\n",
        "    self.linear = nn.Linear(n_input_features,1)\n",
        "\n",
        "  def forward(self,x):\n",
        "    y_predicted = torch.sigmoid(self.linear(x))\n",
        "    return y_predicted\n",
        "\n",
        "model = LogisticRegression(n_features)\n",
        "\n"
      ],
      "metadata": {
        "id": "pnN4ptBhNV5g"
      },
      "execution_count": 12,
      "outputs": []
    },
    {
      "cell_type": "markdown",
      "source": [
        "***Loss and optimizer***"
      ],
      "metadata": {
        "id": "5KoLpfy7RXbp"
      }
    },
    {
      "cell_type": "code",
      "source": [
        "learning_rate = 0.01\n",
        "criterion = nn.BCELoss()\n",
        "optimizer = torch.optim.SGD(model.parameters(),lr=learning_rate)"
      ],
      "metadata": {
        "id": "8v6CGQbORVgA"
      },
      "execution_count": 13,
      "outputs": []
    },
    {
      "cell_type": "markdown",
      "source": [
        "***Training loop***\n",
        "\n",
        "\n"
      ],
      "metadata": {
        "id": "pQr3KLSNS2nL"
      }
    },
    {
      "cell_type": "code",
      "source": [
        "num_epochs = 100\n",
        "for epoch in range(num_epochs):\n",
        "  #forward pass and loss\n",
        "  y_predicted = model(X_train)\n",
        "  loss = criterion(y_predicted,y_train)\n",
        "\n",
        "  # backward pass\n",
        "  loss.backward()\n",
        "\n",
        "  # updates\n",
        "  optimizer.step()\n",
        "\n",
        "  # zero gradients \n",
        "\n",
        "  optimizer.zero_grad()\n",
        "\n",
        "  if(epoch+1) % 10 == 0:\n",
        "    print(f'epoch: {epoch+1},loss={loss.item():.4f}')\n",
        "\n",
        "# evaluate our model. Evauation should not be part of our computational graph\n",
        "with torch.no_grad():\n",
        "  y_predicted = model(X_test)\n",
        "  y_predicted_cls = y_predicted.round()\n",
        "  acc = y_predicted_cls.eq(y_test).sum() / float(y_test.shape[0])\n",
        "  print (f'accuracy = {acc:.4f}')\n"
      ],
      "metadata": {
        "colab": {
          "base_uri": "https://localhost:8080/"
        },
        "id": "Z4llsHvZRyGi",
        "outputId": "59b0ca77-c5f9-4f6d-d2d6-b3b22938317d"
      },
      "execution_count": 15,
      "outputs": [
        {
          "output_type": "stream",
          "name": "stdout",
          "text": [
            "epoch: 10,loss=0.5911\n",
            "epoch: 20,loss=0.4880\n",
            "epoch: 30,loss=0.4214\n",
            "epoch: 40,loss=0.3751\n",
            "epoch: 50,loss=0.3409\n",
            "epoch: 60,loss=0.3146\n",
            "epoch: 70,loss=0.2936\n",
            "epoch: 80,loss=0.2763\n",
            "epoch: 90,loss=0.2618\n",
            "epoch: 100,loss=0.2494\n",
            "accuracy = 0.9035\n"
          ]
        }
      ]
    },
    {
      "cell_type": "code",
      "source": [],
      "metadata": {
        "id": "HCcD5vM_Ur-1"
      },
      "execution_count": null,
      "outputs": []
    }
  ]
}