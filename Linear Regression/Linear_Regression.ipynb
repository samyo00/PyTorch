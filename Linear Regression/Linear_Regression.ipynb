{
  "nbformat": 4,
  "nbformat_minor": 0,
  "metadata": {
    "colab": {
      "provenance": []
    },
    "kernelspec": {
      "name": "python3",
      "display_name": "Python 3"
    },
    "language_info": {
      "name": "python"
    }
  },
  "cells": [
    {
      "cell_type": "markdown",
      "source": [
        "1) Design model (input,output size, forward pass)\n",
        "\n",
        "2) Construct loss and optimizer\n",
        "\n",
        "3) Training loop\n",
        "\n",
        "\n",
        "1.   Forward pass : compute prediction and loss\n",
        "2.   Bacckward pass: gradients\n",
        "3.   Update weights\n",
        "\n",
        "\n",
        "\n"
      ],
      "metadata": {
        "id": "Bdn5DafbDduW"
      }
    },
    {
      "cell_type": "code",
      "execution_count": 2,
      "metadata": {
        "id": "HO9mQMEpCMNw"
      },
      "outputs": [],
      "source": [
        "import torch\n",
        "import torch.nn as nn\n",
        "import numpy as np\n",
        "from sklearn import datasets\n",
        "import matplotlib.pyplot as plt"
      ]
    },
    {
      "cell_type": "markdown",
      "source": [
        "***Prepare data***"
      ],
      "metadata": {
        "id": "SHFZG4gwFHaI"
      }
    },
    {
      "cell_type": "code",
      "source": [
        "# Let's generate a regression dataset\n",
        "\n",
        "x_numpy, y_numpy = datasets.make_regression(n_samples=100,n_features=1,noise=20,random_state=1)\n",
        "\n",
        "# Converting this into a torch tensor\n",
        "\n",
        "x = torch.from_numpy(x_numpy.astype(np.float32))\n",
        "y = torch.from_numpy(y_numpy.astype(np.float32))\n",
        "\n",
        "# Reshape our y\n",
        "\n",
        "y = y.view(y.shape[0],1)\n",
        "\n",
        "n_samples,n_features = x.shape\n",
        "\n",
        "\n"
      ],
      "metadata": {
        "id": "reU595-qCPRa"
      },
      "execution_count": 5,
      "outputs": []
    },
    {
      "cell_type": "markdown",
      "source": [
        "***Model***"
      ],
      "metadata": {
        "id": "AMc59p9pG_sK"
      }
    },
    {
      "cell_type": "code",
      "source": [
        "input_size = n_features\n",
        "output_size = 1\n",
        "model = nn.Linear(input_size,output_size)\n"
      ],
      "metadata": {
        "id": "dWN_wog4F2he"
      },
      "execution_count": 6,
      "outputs": []
    },
    {
      "cell_type": "markdown",
      "source": [
        "***Loss and optimizer***"
      ],
      "metadata": {
        "id": "aH6HOQjTHYc1"
      }
    },
    {
      "cell_type": "code",
      "source": [
        "learning_rate = 0.01\n",
        "criterion =  nn.MSELoss()  # Built in loss fuction from pyTorch in the case of linear regression \n",
        "optimizer = torch.optim.SGD(model.parameters(),lr=learning_rate)\n"
      ],
      "metadata": {
        "id": "h8AKIOjVHR6h"
      },
      "execution_count": 7,
      "outputs": []
    },
    {
      "cell_type": "markdown",
      "source": [
        "***Training Loop***"
      ],
      "metadata": {
        "id": "ZLA94MfxIPN2"
      }
    },
    {
      "cell_type": "code",
      "source": [
        "num_epochs = 100\n",
        "\n",
        "for epoch in range(num_epochs):\n",
        "\n",
        "  # forward pass and loss\n",
        "  y_predicted = model(x)\n",
        "  loss = criterion(y_predicted,y)\n",
        "\n",
        "  # backward pass for calcuating the gradients\n",
        "  loss.backward()\n",
        "\n",
        "  # update\n",
        "  optimizer.step()\n",
        "\n",
        "  optimizer.zero_grad()\n",
        "\n",
        "  if(epoch+1)%10 == 0:\n",
        "    print(f'epoch : {epoch+1}, loss= {loss.item():.4f}')\n",
        "\n",
        "# plot\n",
        "\n",
        "predicted = model(x).detach().numpy()   # New tensor\n",
        "plt.plot(x_numpy,y_numpy,'ro')\n",
        "plt.plot(x_numpy,predicted,'b')\n",
        "plt.show()"
      ],
      "metadata": {
        "colab": {
          "base_uri": "https://localhost:8080/",
          "height": 439
        },
        "id": "CKPIP3UOIKoM",
        "outputId": "9f3706ca-ada4-4715-f11d-d03a4b51bc18"
      },
      "execution_count": 8,
      "outputs": [
        {
          "output_type": "stream",
          "name": "stdout",
          "text": [
            "epoch : 10, loss= 4346.3130\n",
            "epoch : 20, loss= 3243.9629\n",
            "epoch : 30, loss= 2446.2266\n",
            "epoch : 40, loss= 1868.3203\n",
            "epoch : 50, loss= 1449.2566\n",
            "epoch : 60, loss= 1145.1021\n",
            "epoch : 70, loss= 924.1633\n",
            "epoch : 80, loss= 763.5502\n",
            "epoch : 90, loss= 646.7086\n",
            "epoch : 100, loss= 561.6542\n"
          ]
        },
        {
          "output_type": "display_data",
          "data": {
            "text/plain": [
              "<Figure size 432x288 with 1 Axes>"
            ],
            "image/png": "[encoded data removed]"
          },
          "metadata": {
            "needs_background": "light"
          }
        }
      ]
    },
    {
      "cell_type": "code",
      "source": [],
      "metadata": {
        "id": "ddwEssVyJp9K"
      },
      "execution_count": null,
      "outputs": []
    }
  ]
}